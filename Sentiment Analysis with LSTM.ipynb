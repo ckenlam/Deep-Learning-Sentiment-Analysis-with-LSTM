{
 "cells": [
  {
   "cell_type": "markdown",
   "metadata": {},
   "source": [
    "# Text Classification with LSTM"
   ]
  },
  {
   "cell_type": "markdown",
   "metadata": {},
   "source": [
    "<img src=\"https://github.com/ckenlam/Sentiment-Analysis-with-LSTM/blob/master/sentiment.jpg?raw=true\" width=\"700\">"
   ]
  },
  {
   "cell_type": "markdown",
   "metadata": {},
   "source": [
    "Even though the use of a pre-trained word embedding matrix was proven to deliver very good results with a very small dataset, the model that I previously built did not take word sequences into consideration. In this experiment, I would like to explore how RNN-LSTM can be used to learn sequences and produce better models for text classification.  "
   ]
  },
  {
   "cell_type": "markdown",
   "metadata": {},
   "source": [
    "## Loading the libraries"
   ]
  },
  {
   "cell_type": "code",
   "execution_count": 1,
   "metadata": {},
   "outputs": [
    {
     "name": "stderr",
     "output_type": "stream",
     "text": [
      "Using TensorFlow backend.\n"
     ]
    }
   ],
   "source": [
    "import numpy as np\n",
    "import pandas as pd\n",
    "from sklearn.model_selection import train_test_split\n",
    "import re \n",
    "from keras.models import Sequential, load_model\n",
    "from keras.layers import LSTM, Dense, Embedding, Dropout\n",
    "from keras.preprocessing.text import Tokenizer\n",
    "#the following is the make sure the input will be of same length\n",
    "from keras.preprocessing.sequence import pad_sequences"
   ]
  },
  {
   "cell_type": "markdown",
   "metadata": {},
   "source": [
    "## Reading the Data"
   ]
  },
  {
   "cell_type": "markdown",
   "metadata": {},
   "source": [
    "For this experiment, I will be using a dataset of tweets related to the major airlines.  "
   ]
  },
  {
   "cell_type": "code",
   "execution_count": 2,
   "metadata": {},
   "outputs": [
    {
     "data": {
      "text/html": [
       "<div>\n",
       "<style scoped>\n",
       "    .dataframe tbody tr th:only-of-type {\n",
       "        vertical-align: middle;\n",
       "    }\n",
       "\n",
       "    .dataframe tbody tr th {\n",
       "        vertical-align: top;\n",
       "    }\n",
       "\n",
       "    .dataframe thead th {\n",
       "        text-align: right;\n",
       "    }\n",
       "</style>\n",
       "<table border=\"1\" class=\"dataframe\">\n",
       "  <thead>\n",
       "    <tr style=\"text-align: right;\">\n",
       "      <th></th>\n",
       "      <th>tweet_id</th>\n",
       "      <th>airline_sentiment</th>\n",
       "      <th>airline_sentiment_confidence</th>\n",
       "      <th>negativereason</th>\n",
       "      <th>negativereason_confidence</th>\n",
       "      <th>airline</th>\n",
       "      <th>airline_sentiment_gold</th>\n",
       "      <th>name</th>\n",
       "      <th>negativereason_gold</th>\n",
       "      <th>retweet_count</th>\n",
       "      <th>text</th>\n",
       "      <th>tweet_coord</th>\n",
       "      <th>tweet_created</th>\n",
       "      <th>tweet_location</th>\n",
       "      <th>user_timezone</th>\n",
       "    </tr>\n",
       "  </thead>\n",
       "  <tbody>\n",
       "    <tr>\n",
       "      <th>0</th>\n",
       "      <td>569190811113525249</td>\n",
       "      <td>negative</td>\n",
       "      <td>1.0000</td>\n",
       "      <td>Flight Attendant Complaints</td>\n",
       "      <td>0.6667</td>\n",
       "      <td>Delta</td>\n",
       "      <td>NaN</td>\n",
       "      <td>kaitlynrosati</td>\n",
       "      <td>NaN</td>\n",
       "      <td>0</td>\n",
       "      <td>@JetBlue serious attitude. I was in the fault ...</td>\n",
       "      <td>NaN</td>\n",
       "      <td>2015-02-21 09:43:59 -0800</td>\n",
       "      <td>CONCRETE JUNGLE</td>\n",
       "      <td>Pacific Time (US &amp; Canada)</td>\n",
       "    </tr>\n",
       "    <tr>\n",
       "      <th>1</th>\n",
       "      <td>569693689766907904</td>\n",
       "      <td>neutral</td>\n",
       "      <td>1.0000</td>\n",
       "      <td>NaN</td>\n",
       "      <td>NaN</td>\n",
       "      <td>United</td>\n",
       "      <td>NaN</td>\n",
       "      <td>nottooshABBYYYY</td>\n",
       "      <td>NaN</td>\n",
       "      <td>0</td>\n",
       "      <td>@united What are the chances of my flight to E...</td>\n",
       "      <td>NaN</td>\n",
       "      <td>2015-02-22 19:02:14 -0800</td>\n",
       "      <td>NaN</td>\n",
       "      <td>Atlantic Time (Canada)</td>\n",
       "    </tr>\n",
       "    <tr>\n",
       "      <th>2</th>\n",
       "      <td>569956624036540416</td>\n",
       "      <td>negative</td>\n",
       "      <td>1.0000</td>\n",
       "      <td>Late Flight</td>\n",
       "      <td>0.6738</td>\n",
       "      <td>Southwest</td>\n",
       "      <td>NaN</td>\n",
       "      <td>jlgustafson1</td>\n",
       "      <td>NaN</td>\n",
       "      <td>0</td>\n",
       "      <td>@SouthwestAir will continue to be my airline o...</td>\n",
       "      <td>NaN</td>\n",
       "      <td>2015-02-23 12:27:03 -0800</td>\n",
       "      <td>DEN</td>\n",
       "      <td>NaN</td>\n",
       "    </tr>\n",
       "    <tr>\n",
       "      <th>3</th>\n",
       "      <td>568158656522539008</td>\n",
       "      <td>negative</td>\n",
       "      <td>0.6735</td>\n",
       "      <td>Can't Tell</td>\n",
       "      <td>0.6735</td>\n",
       "      <td>United</td>\n",
       "      <td>NaN</td>\n",
       "      <td>qlyss8</td>\n",
       "      <td>NaN</td>\n",
       "      <td>0</td>\n",
       "      <td>@united feeling poor on the church-mouse level...</td>\n",
       "      <td>NaN</td>\n",
       "      <td>2015-02-18 13:22:34 -0800</td>\n",
       "      <td>Texas, USA</td>\n",
       "      <td>Mountain Time (US &amp; Canada)</td>\n",
       "    </tr>\n",
       "    <tr>\n",
       "      <th>4</th>\n",
       "      <td>567753757702647810</td>\n",
       "      <td>positive</td>\n",
       "      <td>1.0000</td>\n",
       "      <td>NaN</td>\n",
       "      <td>NaN</td>\n",
       "      <td>Virgin America</td>\n",
       "      <td>NaN</td>\n",
       "      <td>Perceptions</td>\n",
       "      <td>NaN</td>\n",
       "      <td>0</td>\n",
       "      <td>@VirginAmerica really wish you'd fly out of #F...</td>\n",
       "      <td>NaN</td>\n",
       "      <td>2015-02-17 10:33:38 -0800</td>\n",
       "      <td>Fargo, ND ( &amp; Tucson, AZ)</td>\n",
       "      <td>Central Time (US &amp; Canada)</td>\n",
       "    </tr>\n",
       "    <tr>\n",
       "      <th>5</th>\n",
       "      <td>569989034501500928</td>\n",
       "      <td>negative</td>\n",
       "      <td>1.0000</td>\n",
       "      <td>Customer Service Issue</td>\n",
       "      <td>1.0000</td>\n",
       "      <td>Virgin America</td>\n",
       "      <td>NaN</td>\n",
       "      <td>rachie1126</td>\n",
       "      <td>NaN</td>\n",
       "      <td>0</td>\n",
       "      <td>@VirginAmerica I called a 3-4 weeks ago about ...</td>\n",
       "      <td>NaN</td>\n",
       "      <td>2015-02-23 14:35:50 -0800</td>\n",
       "      <td>New York, NY</td>\n",
       "      <td>Eastern Time (US &amp; Canada)</td>\n",
       "    </tr>\n",
       "    <tr>\n",
       "      <th>6</th>\n",
       "      <td>570246895530078208</td>\n",
       "      <td>neutral</td>\n",
       "      <td>0.6779</td>\n",
       "      <td>NaN</td>\n",
       "      <td>0.0000</td>\n",
       "      <td>American</td>\n",
       "      <td>NaN</td>\n",
       "      <td>LSNorwich</td>\n",
       "      <td>NaN</td>\n",
       "      <td>0</td>\n",
       "      <td>@AmericanAir and then wanted to change it to B...</td>\n",
       "      <td>NaN</td>\n",
       "      <td>2015-02-24 07:40:29 -0800</td>\n",
       "      <td>NaN</td>\n",
       "      <td>London</td>\n",
       "    </tr>\n",
       "    <tr>\n",
       "      <th>7</th>\n",
       "      <td>569921646057926656</td>\n",
       "      <td>negative</td>\n",
       "      <td>1.0000</td>\n",
       "      <td>Customer Service Issue</td>\n",
       "      <td>1.0000</td>\n",
       "      <td>US Airways</td>\n",
       "      <td>NaN</td>\n",
       "      <td>rapidtravelchai</td>\n",
       "      <td>NaN</td>\n",
       "      <td>0</td>\n",
       "      <td>@USAirways any way to get your call center to ...</td>\n",
       "      <td>NaN</td>\n",
       "      <td>2015-02-23 10:08:03 -0800</td>\n",
       "      <td>NaN</td>\n",
       "      <td>Eastern Time (US &amp; Canada)</td>\n",
       "    </tr>\n",
       "    <tr>\n",
       "      <th>8</th>\n",
       "      <td>570214660638511104</td>\n",
       "      <td>positive</td>\n",
       "      <td>0.6632</td>\n",
       "      <td>NaN</td>\n",
       "      <td>0.0000</td>\n",
       "      <td>United</td>\n",
       "      <td>NaN</td>\n",
       "      <td>BouleChitte</td>\n",
       "      <td>NaN</td>\n",
       "      <td>0</td>\n",
       "      <td>@united private jet would have been cool! Do d...</td>\n",
       "      <td>NaN</td>\n",
       "      <td>2015-02-24 05:32:23 -0800</td>\n",
       "      <td>NaN</td>\n",
       "      <td>NaN</td>\n",
       "    </tr>\n",
       "    <tr>\n",
       "      <th>9</th>\n",
       "      <td>569661596898709504</td>\n",
       "      <td>negative</td>\n",
       "      <td>1.0000</td>\n",
       "      <td>Late Flight</td>\n",
       "      <td>0.6677</td>\n",
       "      <td>American</td>\n",
       "      <td>NaN</td>\n",
       "      <td>thebrainlair</td>\n",
       "      <td>NaN</td>\n",
       "      <td>0</td>\n",
       "      <td>@AmericanAir I cannot believe how long flight ...</td>\n",
       "      <td>NaN</td>\n",
       "      <td>2015-02-22 16:54:43 -0800</td>\n",
       "      <td>Indiana</td>\n",
       "      <td>Eastern Time (US &amp; Canada)</td>\n",
       "    </tr>\n",
       "  </tbody>\n",
       "</table>\n",
       "</div>"
      ],
      "text/plain": [
       "             tweet_id airline_sentiment  airline_sentiment_confidence  \\\n",
       "0  569190811113525249          negative                        1.0000   \n",
       "1  569693689766907904           neutral                        1.0000   \n",
       "2  569956624036540416          negative                        1.0000   \n",
       "3  568158656522539008          negative                        0.6735   \n",
       "4  567753757702647810          positive                        1.0000   \n",
       "5  569989034501500928          negative                        1.0000   \n",
       "6  570246895530078208           neutral                        0.6779   \n",
       "7  569921646057926656          negative                        1.0000   \n",
       "8  570214660638511104          positive                        0.6632   \n",
       "9  569661596898709504          negative                        1.0000   \n",
       "\n",
       "                negativereason  negativereason_confidence         airline  \\\n",
       "0  Flight Attendant Complaints                     0.6667           Delta   \n",
       "1                          NaN                        NaN          United   \n",
       "2                  Late Flight                     0.6738       Southwest   \n",
       "3                   Can't Tell                     0.6735          United   \n",
       "4                          NaN                        NaN  Virgin America   \n",
       "5       Customer Service Issue                     1.0000  Virgin America   \n",
       "6                          NaN                     0.0000        American   \n",
       "7       Customer Service Issue                     1.0000      US Airways   \n",
       "8                          NaN                     0.0000          United   \n",
       "9                  Late Flight                     0.6677        American   \n",
       "\n",
       "  airline_sentiment_gold             name negativereason_gold  retweet_count  \\\n",
       "0                    NaN    kaitlynrosati                 NaN              0   \n",
       "1                    NaN  nottooshABBYYYY                 NaN              0   \n",
       "2                    NaN     jlgustafson1                 NaN              0   \n",
       "3                    NaN           qlyss8                 NaN              0   \n",
       "4                    NaN      Perceptions                 NaN              0   \n",
       "5                    NaN       rachie1126                 NaN              0   \n",
       "6                    NaN        LSNorwich                 NaN              0   \n",
       "7                    NaN  rapidtravelchai                 NaN              0   \n",
       "8                    NaN      BouleChitte                 NaN              0   \n",
       "9                    NaN     thebrainlair                 NaN              0   \n",
       "\n",
       "                                                text tweet_coord  \\\n",
       "0  @JetBlue serious attitude. I was in the fault ...         NaN   \n",
       "1  @united What are the chances of my flight to E...         NaN   \n",
       "2  @SouthwestAir will continue to be my airline o...         NaN   \n",
       "3  @united feeling poor on the church-mouse level...         NaN   \n",
       "4  @VirginAmerica really wish you'd fly out of #F...         NaN   \n",
       "5  @VirginAmerica I called a 3-4 weeks ago about ...         NaN   \n",
       "6  @AmericanAir and then wanted to change it to B...         NaN   \n",
       "7  @USAirways any way to get your call center to ...         NaN   \n",
       "8  @united private jet would have been cool! Do d...         NaN   \n",
       "9  @AmericanAir I cannot believe how long flight ...         NaN   \n",
       "\n",
       "               tweet_created             tweet_location  \\\n",
       "0  2015-02-21 09:43:59 -0800            CONCRETE JUNGLE   \n",
       "1  2015-02-22 19:02:14 -0800                        NaN   \n",
       "2  2015-02-23 12:27:03 -0800                        DEN   \n",
       "3  2015-02-18 13:22:34 -0800                 Texas, USA   \n",
       "4  2015-02-17 10:33:38 -0800  Fargo, ND ( & Tucson, AZ)   \n",
       "5  2015-02-23 14:35:50 -0800               New York, NY   \n",
       "6  2015-02-24 07:40:29 -0800                        NaN   \n",
       "7  2015-02-23 10:08:03 -0800                        NaN   \n",
       "8  2015-02-24 05:32:23 -0800                        NaN   \n",
       "9  2015-02-22 16:54:43 -0800                    Indiana   \n",
       "\n",
       "                 user_timezone  \n",
       "0   Pacific Time (US & Canada)  \n",
       "1       Atlantic Time (Canada)  \n",
       "2                          NaN  \n",
       "3  Mountain Time (US & Canada)  \n",
       "4   Central Time (US & Canada)  \n",
       "5   Eastern Time (US & Canada)  \n",
       "6                       London  \n",
       "7   Eastern Time (US & Canada)  \n",
       "8                          NaN  \n",
       "9   Eastern Time (US & Canada)  "
      ]
     },
     "execution_count": 2,
     "metadata": {},
     "output_type": "execute_result"
    }
   ],
   "source": [
    "dataset = pd.read_csv('Tweets.csv')\n",
    "dataset = dataset.sample(frac=1).reset_index(drop=True)\n",
    "dataset.head(10)"
   ]
  },
  {
   "cell_type": "code",
   "execution_count": 3,
   "metadata": {
    "collapsed": true
   },
   "outputs": [],
   "source": [
    "dataset = dataset[['airline_sentiment','text']]"
   ]
  },
  {
   "cell_type": "code",
   "execution_count": 4,
   "metadata": {},
   "outputs": [
    {
     "data": {
      "text/plain": [
       "(14640, 2)"
      ]
     },
     "execution_count": 4,
     "metadata": {},
     "output_type": "execute_result"
    }
   ],
   "source": [
    "dataset.shape"
   ]
  },
  {
   "cell_type": "code",
   "execution_count": 5,
   "metadata": {},
   "outputs": [
    {
     "data": {
      "text/html": [
       "<div>\n",
       "<style scoped>\n",
       "    .dataframe tbody tr th:only-of-type {\n",
       "        vertical-align: middle;\n",
       "    }\n",
       "\n",
       "    .dataframe tbody tr th {\n",
       "        vertical-align: top;\n",
       "    }\n",
       "\n",
       "    .dataframe thead th {\n",
       "        text-align: right;\n",
       "    }\n",
       "</style>\n",
       "<table border=\"1\" class=\"dataframe\">\n",
       "  <thead>\n",
       "    <tr style=\"text-align: right;\">\n",
       "      <th></th>\n",
       "      <th>airline_sentiment</th>\n",
       "      <th>text</th>\n",
       "    </tr>\n",
       "  </thead>\n",
       "  <tbody>\n",
       "    <tr>\n",
       "      <th>0</th>\n",
       "      <td>negative</td>\n",
       "      <td>@JetBlue serious attitude. I was in the fault ...</td>\n",
       "    </tr>\n",
       "    <tr>\n",
       "      <th>1</th>\n",
       "      <td>neutral</td>\n",
       "      <td>@united What are the chances of my flight to E...</td>\n",
       "    </tr>\n",
       "    <tr>\n",
       "      <th>2</th>\n",
       "      <td>negative</td>\n",
       "      <td>@SouthwestAir will continue to be my airline o...</td>\n",
       "    </tr>\n",
       "    <tr>\n",
       "      <th>3</th>\n",
       "      <td>negative</td>\n",
       "      <td>@united feeling poor on the church-mouse level...</td>\n",
       "    </tr>\n",
       "    <tr>\n",
       "      <th>4</th>\n",
       "      <td>positive</td>\n",
       "      <td>@VirginAmerica really wish you'd fly out of #F...</td>\n",
       "    </tr>\n",
       "  </tbody>\n",
       "</table>\n",
       "</div>"
      ],
      "text/plain": [
       "  airline_sentiment                                               text\n",
       "0          negative  @JetBlue serious attitude. I was in the fault ...\n",
       "1           neutral  @united What are the chances of my flight to E...\n",
       "2          negative  @SouthwestAir will continue to be my airline o...\n",
       "3          negative  @united feeling poor on the church-mouse level...\n",
       "4          positive  @VirginAmerica really wish you'd fly out of #F..."
      ]
     },
     "execution_count": 5,
     "metadata": {},
     "output_type": "execute_result"
    }
   ],
   "source": [
    "dataset.head(5)"
   ]
  },
  {
   "cell_type": "markdown",
   "metadata": {},
   "source": [
    "## Data Visualization"
   ]
  },
  {
   "cell_type": "code",
   "execution_count": 6,
   "metadata": {
    "collapsed": true
   },
   "outputs": [],
   "source": [
    "from matplotlib import pyplot as plt\n",
    "import seaborn as sns\n",
    "%matplotlib inline\n",
    "sns.set_palette('BrBG_r',3)"
   ]
  },
  {
   "cell_type": "code",
   "execution_count": 7,
   "metadata": {},
   "outputs": [
    {
     "name": "stderr",
     "output_type": "stream",
     "text": [
      "/Users/kenlam/anaconda/envs/py3/lib/python3.6/site-packages/scipy/stats/stats.py:1706: FutureWarning: Using a non-tuple sequence for multidimensional indexing is deprecated; use `arr[tuple(seq)]` instead of `arr[seq]`. In the future this will be interpreted as an array index, `arr[np.array(seq)]`, which will result either in an error or a different result.\n",
      "  return np.add.reduce(sorted[indexer] * weights, axis=axis) / sumval\n",
      "/Users/kenlam/anaconda/envs/py3/lib/python3.6/site-packages/matplotlib/axes/_axes.py:6462: UserWarning: The 'normed' kwarg is deprecated, and has been replaced by the 'density' kwarg.\n",
      "  warnings.warn(\"The 'normed' kwarg is deprecated, and has been \"\n"
     ]
    },
    {
     "data": {
      "text/plain": [
       "<matplotlib.axes._subplots.AxesSubplot at 0x1a243c9048>"
      ]
     },
     "execution_count": 7,
     "metadata": {},
     "output_type": "execute_result"
    },
    {
     "data": {
      "image/png": "[encoded data removed]",
      "text/plain": [
       "<Figure size 432x288 with 1 Axes>"
      ]
     },
     "metadata": {},
     "output_type": "display_data"
    }
   ],
   "source": [
    "sns.distplot(dataset['text'].str.len())"
   ]
  },
  {
   "cell_type": "code",
   "execution_count": 8,
   "metadata": {},
   "outputs": [
    {
     "name": "stderr",
     "output_type": "stream",
     "text": [
      "/Users/kenlam/anaconda/envs/py3/lib/python3.6/site-packages/seaborn/categorical.py:1460: FutureWarning: remove_na is deprecated and is a private function. Do not use.\n",
      "  stat_data = remove_na(group_data)\n"
     ]
    },
    {
     "data": {
      "text/plain": [
       "<matplotlib.axes._subplots.AxesSubplot at 0x1a265c3c88>"
      ]
     },
     "execution_count": 8,
     "metadata": {},
     "output_type": "execute_result"
    },
    {
     "data": {
      "image/png": "[encoded data removed]",
      "text/plain": [
       "<Figure size 432x288 with 1 Axes>"
      ]
     },
     "metadata": {},
     "output_type": "display_data"
    }
   ],
   "source": [
    "sns.countplot(dataset['airline_sentiment'])"
   ]
  },
  {
   "cell_type": "code",
   "execution_count": 9,
   "metadata": {},
   "outputs": [
    {
     "data": {
      "text/plain": [
       "negative    0.626913\n",
       "neutral     0.211680\n",
       "positive    0.161407\n",
       "Name: airline_sentiment, dtype: float64"
      ]
     },
     "execution_count": 9,
     "metadata": {},
     "output_type": "execute_result"
    }
   ],
   "source": [
    "dataset.airline_sentiment.value_counts(normalize=True)"
   ]
  },
  {
   "cell_type": "markdown",
   "metadata": {},
   "source": [
    "## Data Preprocessing"
   ]
  },
  {
   "cell_type": "code",
   "execution_count": 10,
   "metadata": {},
   "outputs": [
    {
     "data": {
      "text/plain": [
       "0    jetblue serious attitude i was in the fault fo...\n",
       "1    united what are the chances of my flight to ew...\n",
       "2    southwestair will continue to be my airline of...\n",
       "3    united feeling poor on the churchmouse level h...\n",
       "4    virginamerica really wish youd fly out of farg...\n",
       "Name: text, dtype: object"
      ]
     },
     "execution_count": 10,
     "metadata": {},
     "output_type": "execute_result"
    }
   ],
   "source": [
    "dataset['text']=dataset['text'].apply(lambda x:x.lower())\n",
    "dataset['text']=dataset['text'].apply(lambda x:re.sub('[^a-zA-Z0-9\\s]',\"\",x))\n",
    "dataset['text'].head()"
   ]
  },
  {
   "cell_type": "code",
   "execution_count": 11,
   "metadata": {},
   "outputs": [
    {
     "data": {
      "text/plain": [
       "array([[   0,    0,    0,    0,    0,    0,    0,   17, 1161,  883,    3,\n",
       "          23,   15,    2,  701,    7,  757,    4,  955,   31,  190,  185,\n",
       "         136,  837,   11,  357,   86,   11,    8,  263,  185, 3092,   19],\n",
       "       [   0,    0,    0,    0,    0,    0,    0,    0,    0,    0,    0,\n",
       "           0,    0,    0,    0,    0,    0,    5,   57,   35,    2, 1427,\n",
       "          18,   11,    8,    1,  436,   33, 1508,  195,   37,  178,  131],\n",
       "       [   0,    0,    0,    0,    0,    0,    0,    0,    0,    0,    0,\n",
       "          16,   49, 1256,    1,   32,   11,  100,   18,  928,    5,  446,\n",
       "         563,  170,  119,  113, 1162,  231,  267,   10,  139,   80,  593],\n",
       "       [   0,    0,    0,    0,    0,    0,    0,    0,    5, 1428,  405,\n",
       "           9,    2, 1257,  141, 2223, 1204,   14,  464,    1,  125,    4,\n",
       "        4598,  956, 2455,   48,   24,    4, 4598,  956,   31, 3665,  564],\n",
       "       [   0,    0,    0,    0,    0,    0,    0,    0,    0,    0,    0,\n",
       "           0,    0,    0,    0,    0,    0,    0,    0,    0,    0,    0,\n",
       "           0,   78,  132,  645, 1163,  106,   52,   18,  425, 1122,   35],\n",
       "       [   0,    0,    0,    0,    0,    0,    0,    0,    0,    0,    0,\n",
       "           0,    0,    0,    0,   78,    3,  275,    4, 1509,  437,  285,\n",
       "          81, 1205,  124,   59,   33, 2224,    1,   11,   72,  340, 2054],\n",
       "       [   0,    0,    0,    0,    0,    0,    0,    0,    0,    0,    0,\n",
       "           0,    0,    0,    0,    0,    0,    0,    0,    0,    0,    0,\n",
       "           0,   13,   10,  115,  610,    1,  127,   20,    1, 2225,    7]],\n",
       "      dtype=int32)"
      ]
     },
     "execution_count": 11,
     "metadata": {},
     "output_type": "execute_result"
    }
   ],
   "source": [
    "tokenizer = Tokenizer(num_words=5000)\n",
    "tokenizer.fit_on_texts(dataset['text'].values)\n",
    "X = tokenizer.texts_to_sequences(dataset['text'].values)\n",
    "X = pad_sequences(X)\n",
    "X[:7]"
   ]
  },
  {
   "cell_type": "code",
   "execution_count": 12,
   "metadata": {
    "collapsed": true
   },
   "outputs": [],
   "source": [
    "MAX_SEQUENCE_LENGTH = len(X[0])"
   ]
  },
  {
   "cell_type": "markdown",
   "metadata": {},
   "source": [
    "## Training the model"
   ]
  },
  {
   "cell_type": "code",
   "execution_count": 13,
   "metadata": {
    "collapsed": true
   },
   "outputs": [],
   "source": [
    "from tqdm import tqdm"
   ]
  },
  {
   "cell_type": "markdown",
   "metadata": {},
   "source": [
    "I'll be using the pre-trained GloVe (Global Vectors for Word Representation) from the following [link](http://nlp.stanford.edu/data/glove.840B.300d.zip)."
   ]
  },
  {
   "cell_type": "code",
   "execution_count": 14,
   "metadata": {},
   "outputs": [
    {
     "name": "stderr",
     "output_type": "stream",
     "text": [
      "2196017it [02:40, 13677.22it/s]\n"
     ]
    }
   ],
   "source": [
    "embeddings_index = {}\n",
    "f = open('glove.840B.300d.txt', encoding=\"utf8\")\n",
    "for line in tqdm(f):\n",
    "    values = line.split()\n",
    "    word = values[0]\n",
    "    try:\n",
    "       coefs = np.asarray(values[1:], dtype='float32')\n",
    "       embeddings_index[word] = coefs\n",
    "    except ValueError:\n",
    "       pass\n",
    "f.close()"
   ]
  },
  {
   "cell_type": "code",
   "execution_count": 15,
   "metadata": {},
   "outputs": [
    {
     "name": "stdout",
     "output_type": "stream",
     "text": [
      "There are 16691 words in our word index matrix\n"
     ]
    }
   ],
   "source": [
    "word_index = tokenizer.word_index\n",
    "print('There are %s words in our word index matrix' %(len(word_index)))"
   ]
  },
  {
   "cell_type": "code",
   "execution_count": 16,
   "metadata": {
    "collapsed": true
   },
   "outputs": [],
   "source": [
    "EMBEDDING_DIM=len(list(embeddings_index.items())[0][1])\n",
    "embedding_matrix = np.zeros((len(word_index) + 1, EMBEDDING_DIM))\n",
    "for word, i in word_index.items():\n",
    "    embedding_vector = embeddings_index.get(word)\n",
    "    if embedding_vector is not None:\n",
    "        # words not found in embedding index will be all-zeros.\n",
    "        embedding_matrix[i] = embedding_vector"
   ]
  },
  {
   "cell_type": "markdown",
   "metadata": {},
   "source": [
    "### Model 1: Train your own embedding layer + 2 LSTM layers"
   ]
  },
  {
   "cell_type": "markdown",
   "metadata": {},
   "source": [
    "In this case, the weights in the embedding layer are assigned randomly and will be trained/updated during the training and backpropagation,."
   ]
  },
  {
   "cell_type": "code",
   "execution_count": 17,
   "metadata": {
    "collapsed": true
   },
   "outputs": [],
   "source": [
    "model1 = Sequential()\n",
    "model1.add(Embedding(5000,256,input_length=X.shape[1]))\n",
    "model1.add(Dropout(0.3))\n",
    "model1.add(LSTM(300, return_sequences=True,dropout=0.3, recurrent_dropout=0.2))\n",
    "model1.add(LSTM(300, dropout=0.3, recurrent_dropout=0.2))\n",
    "model1.add(Dense(3,activation='softmax'))"
   ]
  },
  {
   "cell_type": "code",
   "execution_count": 18,
   "metadata": {
    "collapsed": true
   },
   "outputs": [],
   "source": [
    "model1.compile(loss = 'categorical_crossentropy', optimizer='adam', metrics=['accuracy'])"
   ]
  },
  {
   "cell_type": "code",
   "execution_count": 19,
   "metadata": {},
   "outputs": [
    {
     "name": "stdout",
     "output_type": "stream",
     "text": [
      "_________________________________________________________________\n",
      "Layer (type)                 Output Shape              Param #   \n",
      "=================================================================\n",
      "embedding_1 (Embedding)      (None, 33, 256)           1280000   \n",
      "_________________________________________________________________\n",
      "dropout_1 (Dropout)          (None, 33, 256)           0         \n",
      "_________________________________________________________________\n",
      "lstm_1 (LSTM)                (None, 33, 300)           668400    \n",
      "_________________________________________________________________\n",
      "lstm_2 (LSTM)                (None, 300)               721200    \n",
      "_________________________________________________________________\n",
      "dense_1 (Dense)              (None, 3)                 903       \n",
      "=================================================================\n",
      "Total params: 2,670,503\n",
      "Trainable params: 2,670,503\n",
      "Non-trainable params: 0\n",
      "_________________________________________________________________\n"
     ]
    }
   ],
   "source": [
    "model1.summary()"
   ]
  },
  {
   "cell_type": "markdown",
   "metadata": {},
   "source": [
    "### Model 2: Use pre-trained GloVe embedding layer + 2 LSTM layers"
   ]
  },
  {
   "cell_type": "markdown",
   "metadata": {},
   "source": [
    "In this case, the embedding weights are initialized with the pre-trained GloVe embeddings - in an attempt to put the network in a proper state prior to training (i.e. trying to avoid falling into some local minima). The weights can be updated during training, but not recommended unless enough training data is available.\n",
    "\n",
    "[reference](https://github.com/keras-team/keras/issues/3110)"
   ]
  },
  {
   "cell_type": "code",
   "execution_count": 20,
   "metadata": {
    "collapsed": true
   },
   "outputs": [],
   "source": [
    "model2 = Sequential()\n",
    "model2.add(Embedding(len(word_index) + 1,EMBEDDING_DIM,input_length=MAX_SEQUENCE_LENGTH,weights=[embedding_matrix],trainable=False))\n",
    "model2.add(Dropout(0.3))\n",
    "model2.add(LSTM(300, return_sequences=True,dropout=0.3, recurrent_dropout=0.2))\n",
    "model2.add(LSTM(300, return_sequences=True,dropout=0.3, recurrent_dropout=0.2))\n",
    "model2.add(LSTM(300, dropout=0.3, recurrent_dropout=0.2))\n",
    "model2.add(Dense(3,activation='softmax'))"
   ]
  },
  {
   "cell_type": "code",
   "execution_count": 21,
   "metadata": {
    "collapsed": true
   },
   "outputs": [],
   "source": [
    "model2.compile(loss = 'categorical_crossentropy', optimizer='adam', metrics=['accuracy'])"
   ]
  },
  {
   "cell_type": "code",
   "execution_count": 22,
   "metadata": {},
   "outputs": [
    {
     "name": "stdout",
     "output_type": "stream",
     "text": [
      "_________________________________________________________________\n",
      "Layer (type)                 Output Shape              Param #   \n",
      "=================================================================\n",
      "embedding_2 (Embedding)      (None, 33, 300)           5007600   \n",
      "_________________________________________________________________\n",
      "dropout_2 (Dropout)          (None, 33, 300)           0         \n",
      "_________________________________________________________________\n",
      "lstm_3 (LSTM)                (None, 33, 300)           721200    \n",
      "_________________________________________________________________\n",
      "lstm_4 (LSTM)                (None, 33, 300)           721200    \n",
      "_________________________________________________________________\n",
      "lstm_5 (LSTM)                (None, 300)               721200    \n",
      "_________________________________________________________________\n",
      "dense_2 (Dense)              (None, 3)                 903       \n",
      "=================================================================\n",
      "Total params: 7,172,103\n",
      "Trainable params: 2,164,503\n",
      "Non-trainable params: 5,007,600\n",
      "_________________________________________________________________\n"
     ]
    }
   ],
   "source": [
    "model2.summary()"
   ]
  },
  {
   "cell_type": "markdown",
   "metadata": {},
   "source": [
    "### Model 3: Use pre-trained GloVe embedding layer + 3 LSTM layers"
   ]
  },
  {
   "cell_type": "code",
   "execution_count": 23,
   "metadata": {
    "collapsed": true
   },
   "outputs": [],
   "source": [
    "model3 = Sequential()\n",
    "model3.add(Embedding(len(word_index) + 1,EMBEDDING_DIM,input_length=MAX_SEQUENCE_LENGTH,weights=[embedding_matrix],trainable=False))\n",
    "model3.add(Dropout(0.3))\n",
    "model3.add(LSTM(300, return_sequences=True,dropout=0.3, recurrent_dropout=0.2))\n",
    "model3.add(LSTM(300, return_sequences=True,dropout=0.3, recurrent_dropout=0.2))\n",
    "model3.add(LSTM(300, dropout=0.3, recurrent_dropout=0.2))\n",
    "model3.add(Dense(3,activation='softmax'))"
   ]
  },
  {
   "cell_type": "code",
   "execution_count": 24,
   "metadata": {
    "collapsed": true
   },
   "outputs": [],
   "source": [
    "model3.compile(loss = 'categorical_crossentropy', optimizer='adam', metrics=['accuracy'])"
   ]
  },
  {
   "cell_type": "code",
   "execution_count": 25,
   "metadata": {},
   "outputs": [
    {
     "name": "stdout",
     "output_type": "stream",
     "text": [
      "_________________________________________________________________\n",
      "Layer (type)                 Output Shape              Param #   \n",
      "=================================================================\n",
      "embedding_3 (Embedding)      (None, 33, 300)           5007600   \n",
      "_________________________________________________________________\n",
      "dropout_3 (Dropout)          (None, 33, 300)           0         \n",
      "_________________________________________________________________\n",
      "lstm_6 (LSTM)                (None, 33, 300)           721200    \n",
      "_________________________________________________________________\n",
      "lstm_7 (LSTM)                (None, 33, 300)           721200    \n",
      "_________________________________________________________________\n",
      "lstm_8 (LSTM)                (None, 300)               721200    \n",
      "_________________________________________________________________\n",
      "dense_3 (Dense)              (None, 3)                 903       \n",
      "=================================================================\n",
      "Total params: 7,172,103\n",
      "Trainable params: 2,164,503\n",
      "Non-trainable params: 5,007,600\n",
      "_________________________________________________________________\n"
     ]
    }
   ],
   "source": [
    "model3.summary()"
   ]
  },
  {
   "cell_type": "markdown",
   "metadata": {},
   "source": [
    "### Model 4: Use pre-trained GloVe embedding layer + 2 Bidirectional LSTM layers"
   ]
  },
  {
   "cell_type": "code",
   "execution_count": 26,
   "metadata": {
    "collapsed": true
   },
   "outputs": [],
   "source": [
    "from keras.layers import Bidirectional\n",
    "model4 = Sequential()\n",
    "model4.add(Embedding(len(word_index) + 1,EMBEDDING_DIM,input_length=MAX_SEQUENCE_LENGTH,weights=[embedding_matrix],trainable=False))\n",
    "model4.add(Dropout(0.3))\n",
    "model4.add(Bidirectional(LSTM(300, return_sequences=True,dropout=0.3, recurrent_dropout=0.2)))\n",
    "model4.add(Bidirectional(LSTM(300, dropout=0.3, recurrent_dropout=0.2)))\n",
    "model4.add(Dense(3,activation='softmax'))"
   ]
  },
  {
   "cell_type": "code",
   "execution_count": 27,
   "metadata": {
    "collapsed": true
   },
   "outputs": [],
   "source": [
    "model4.compile(loss = 'categorical_crossentropy', optimizer='adam', metrics=['accuracy'])"
   ]
  },
  {
   "cell_type": "code",
   "execution_count": 28,
   "metadata": {},
   "outputs": [
    {
     "name": "stdout",
     "output_type": "stream",
     "text": [
      "_________________________________________________________________\n",
      "Layer (type)                 Output Shape              Param #   \n",
      "=================================================================\n",
      "embedding_4 (Embedding)      (None, 33, 300)           5007600   \n",
      "_________________________________________________________________\n",
      "dropout_4 (Dropout)          (None, 33, 300)           0         \n",
      "_________________________________________________________________\n",
      "bidirectional_1 (Bidirection (None, 33, 600)           1442400   \n",
      "_________________________________________________________________\n",
      "bidirectional_2 (Bidirection (None, 600)               2162400   \n",
      "_________________________________________________________________\n",
      "dense_4 (Dense)              (None, 3)                 1803      \n",
      "=================================================================\n",
      "Total params: 8,614,203\n",
      "Trainable params: 3,606,603\n",
      "Non-trainable params: 5,007,600\n",
      "_________________________________________________________________\n"
     ]
    }
   ],
   "source": [
    "model4.summary()"
   ]
  },
  {
   "cell_type": "markdown",
   "metadata": {},
   "source": [
    "### Model 5: Use pre-trained GloVe embedding layer + 3 Bidirectional LSTM layers"
   ]
  },
  {
   "cell_type": "code",
   "execution_count": 29,
   "metadata": {
    "collapsed": true
   },
   "outputs": [],
   "source": [
    "model5 = Sequential()\n",
    "model5.add(Embedding(len(word_index) + 1,EMBEDDING_DIM,input_length=MAX_SEQUENCE_LENGTH,weights=[embedding_matrix],trainable=False))\n",
    "model5.add(Dropout(0.3))\n",
    "model5.add(LSTM(300, return_sequences=True,dropout=0.3, recurrent_dropout=0.2))\n",
    "model5.add(LSTM(300, return_sequences=True,dropout=0.3, recurrent_dropout=0.2))\n",
    "model5.add(LSTM(300, return_sequences=True,dropout=0.3, recurrent_dropout=0.2))\n",
    "model5.add(LSTM(300, dropout=0.3, recurrent_dropout=0.2))\n",
    "model5.add(Dense(3,activation='softmax'))"
   ]
  },
  {
   "cell_type": "code",
   "execution_count": 30,
   "metadata": {
    "collapsed": true
   },
   "outputs": [],
   "source": [
    "model5.compile(loss = 'categorical_crossentropy', optimizer='adam', metrics=['accuracy'])"
   ]
  },
  {
   "cell_type": "code",
   "execution_count": 31,
   "metadata": {},
   "outputs": [
    {
     "name": "stdout",
     "output_type": "stream",
     "text": [
      "_________________________________________________________________\n",
      "Layer (type)                 Output Shape              Param #   \n",
      "=================================================================\n",
      "embedding_5 (Embedding)      (None, 33, 300)           5007600   \n",
      "_________________________________________________________________\n",
      "dropout_5 (Dropout)          (None, 33, 300)           0         \n",
      "_________________________________________________________________\n",
      "lstm_11 (LSTM)               (None, 33, 300)           721200    \n",
      "_________________________________________________________________\n",
      "lstm_12 (LSTM)               (None, 33, 300)           721200    \n",
      "_________________________________________________________________\n",
      "lstm_13 (LSTM)               (None, 33, 300)           721200    \n",
      "_________________________________________________________________\n",
      "lstm_14 (LSTM)               (None, 300)               721200    \n",
      "_________________________________________________________________\n",
      "dense_5 (Dense)              (None, 3)                 903       \n",
      "=================================================================\n",
      "Total params: 7,893,303\n",
      "Trainable params: 2,885,703\n",
      "Non-trainable params: 5,007,600\n",
      "_________________________________________________________________\n"
     ]
    }
   ],
   "source": [
    "model5.summary()"
   ]
  },
  {
   "cell_type": "markdown",
   "metadata": {},
   "source": [
    "### Model 6: Use pre-trained GloVe embedding layer + 3 LSTM layers + Higher Dropout rate + More Epochs"
   ]
  },
  {
   "cell_type": "code",
   "execution_count": 82,
   "metadata": {
    "collapsed": true
   },
   "outputs": [],
   "source": [
    "model6 = Sequential()\n",
    "model6.add(Embedding(len(word_index) + 1,EMBEDDING_DIM,input_length=MAX_SEQUENCE_LENGTH,weights=[embedding_matrix],trainable=False))\n",
    "model6.add(Dropout(0.6))\n",
    "model6.add(LSTM(300, return_sequences=True,dropout=0.6, recurrent_dropout=0.6))\n",
    "model6.add(LSTM(300, return_sequences=True,dropout=0.6, recurrent_dropout=0.6))\n",
    "model6.add(LSTM(300, dropout=0.6, recurrent_dropout=0.6))\n",
    "model6.add(Dense(3,activation='softmax'))"
   ]
  },
  {
   "cell_type": "code",
   "execution_count": 83,
   "metadata": {
    "collapsed": true
   },
   "outputs": [],
   "source": [
    "model6.compile(loss = 'categorical_crossentropy', optimizer='adam', metrics=['accuracy'])"
   ]
  },
  {
   "cell_type": "code",
   "execution_count": 84,
   "metadata": {},
   "outputs": [
    {
     "name": "stdout",
     "output_type": "stream",
     "text": [
      "_________________________________________________________________\n",
      "Layer (type)                 Output Shape              Param #   \n",
      "=================================================================\n",
      "embedding_6 (Embedding)      (None, 33, 300)           5007600   \n",
      "_________________________________________________________________\n",
      "dropout_6 (Dropout)          (None, 33, 300)           0         \n",
      "_________________________________________________________________\n",
      "lstm_15 (LSTM)               (None, 33, 300)           721200    \n",
      "_________________________________________________________________\n",
      "lstm_16 (LSTM)               (None, 33, 300)           721200    \n",
      "_________________________________________________________________\n",
      "lstm_17 (LSTM)               (None, 300)               721200    \n",
      "_________________________________________________________________\n",
      "dense_6 (Dense)              (None, 3)                 903       \n",
      "=================================================================\n",
      "Total params: 7,172,103\n",
      "Trainable params: 2,164,503\n",
      "Non-trainable params: 5,007,600\n",
      "_________________________________________________________________\n"
     ]
    }
   ],
   "source": [
    "model6.summary()"
   ]
  },
  {
   "cell_type": "markdown",
   "metadata": {},
   "source": [
    "### Model 7: Use pre-trained GloVe embedding layer + 2 Bidirectional LSTM layers + Higher Dropout Rate + More Epochs"
   ]
  },
  {
   "cell_type": "code",
   "execution_count": 95,
   "metadata": {
    "collapsed": true
   },
   "outputs": [],
   "source": [
    "from keras.layers import Bidirectional\n",
    "model7 = Sequential()\n",
    "model7.add(Embedding(len(word_index) + 1,EMBEDDING_DIM,input_length=MAX_SEQUENCE_LENGTH,weights=[embedding_matrix],trainable=False))\n",
    "model7.add(Dropout(0.6))\n",
    "model7.add(Bidirectional(LSTM(300, return_sequences=True,dropout=0.6, recurrent_dropout=0.6)))\n",
    "model7.add(Bidirectional(LSTM(300, dropout=0.6, recurrent_dropout=0.6)))\n",
    "model7.add(Dense(3,activation='softmax'))"
   ]
  },
  {
   "cell_type": "code",
   "execution_count": 96,
   "metadata": {
    "collapsed": true
   },
   "outputs": [],
   "source": [
    "model7.compile(loss = 'categorical_crossentropy', optimizer='adam', metrics=['accuracy'])"
   ]
  },
  {
   "cell_type": "code",
   "execution_count": 97,
   "metadata": {},
   "outputs": [
    {
     "name": "stdout",
     "output_type": "stream",
     "text": [
      "_________________________________________________________________\n",
      "Layer (type)                 Output Shape              Param #   \n",
      "=================================================================\n",
      "embedding_7 (Embedding)      (None, 33, 300)           5007600   \n",
      "_________________________________________________________________\n",
      "dropout_7 (Dropout)          (None, 33, 300)           0         \n",
      "_________________________________________________________________\n",
      "bidirectional_3 (Bidirection (None, 33, 600)           1442400   \n",
      "_________________________________________________________________\n",
      "bidirectional_4 (Bidirection (None, 600)               2162400   \n",
      "_________________________________________________________________\n",
      "dense_7 (Dense)              (None, 3)                 1803      \n",
      "=================================================================\n",
      "Total params: 8,614,203\n",
      "Trainable params: 3,606,603\n",
      "Non-trainable params: 5,007,600\n",
      "_________________________________________________________________\n"
     ]
    }
   ],
   "source": [
    "model7.summary()"
   ]
  },
  {
   "cell_type": "markdown",
   "metadata": {},
   "source": [
    "### Training of All Models"
   ]
  },
  {
   "cell_type": "code",
   "execution_count": 32,
   "metadata": {
    "collapsed": true
   },
   "outputs": [],
   "source": [
    "from keras.callbacks import History \n",
    "from keras.callbacks import EarlyStopping"
   ]
  },
  {
   "cell_type": "code",
   "execution_count": 33,
   "metadata": {
    "collapsed": true
   },
   "outputs": [],
   "source": [
    "y = pd.get_dummies(dataset['airline_sentiment']).values"
   ]
  },
  {
   "cell_type": "code",
   "execution_count": 34,
   "metadata": {
    "collapsed": true
   },
   "outputs": [],
   "source": [
    "X_train, X_test, y_train, y_test = train_test_split(X,y, test_size=0.2, random_state=42)"
   ]
  },
  {
   "cell_type": "code",
   "execution_count": 35,
   "metadata": {
    "collapsed": true
   },
   "outputs": [],
   "source": [
    "batch_size = 32\n",
    "epochs = 10"
   ]
  },
  {
   "cell_type": "code",
   "execution_count": 49,
   "metadata": {},
   "outputs": [
    {
     "name": "stdout",
     "output_type": "stream",
     "text": [
      "Training model#1\n",
      "Train on 10540 samples, validate on 1172 samples\n",
      "Epoch 1/10\n",
      "10540/10540 [==============================] - 87s 8ms/step - loss: 0.1257 - acc: 0.9579 - val_loss: 0.7527 - val_acc: 0.7969\n",
      "Epoch 2/10\n",
      "10540/10540 [==============================] - 83s 8ms/step - loss: 0.0986 - acc: 0.9661 - val_loss: 0.8221 - val_acc: 0.7739\n",
      "Epoch 3/10\n",
      "10540/10540 [==============================] - 91s 9ms/step - loss: 0.0775 - acc: 0.9750 - val_loss: 0.9444 - val_acc: 0.7824\n",
      "Epoch 4/10\n",
      "10540/10540 [==============================] - 99s 9ms/step - loss: 0.0661 - acc: 0.9778 - val_loss: 1.0955 - val_acc: 0.7799\n",
      "model#1 trained!\n"
     ]
    }
   ],
   "source": [
    "print('Training model#1')\n",
    "history1 = model1.fit(X_train, y_train, epochs=epochs, batch_size=batch_size, verbose = 1, validation_split=0.1,callbacks=[EarlyStopping(monitor='val_loss', patience=3, min_delta=0.0001)])\n",
    "model1.save('sentiment_model1.h5')\n",
    "print('model#1 trained!')"
   ]
  },
  {
   "cell_type": "code",
   "execution_count": 54,
   "metadata": {},
   "outputs": [
    {
     "name": "stdout",
     "output_type": "stream",
     "text": [
      "Training model#2\n",
      "Train on 10540 samples, validate on 1172 samples\n",
      "Epoch 1/10\n",
      "10540/10540 [==============================] - 124s 12ms/step - loss: 0.5705 - acc: 0.7715 - val_loss: 0.5326 - val_acc: 0.7799\n",
      "Epoch 2/10\n",
      "10540/10540 [==============================] - 121s 11ms/step - loss: 0.5028 - acc: 0.7998 - val_loss: 0.5362 - val_acc: 0.7901\n",
      "Epoch 3/10\n",
      "10540/10540 [==============================] - 117s 11ms/step - loss: 0.4738 - acc: 0.8105 - val_loss: 0.5579 - val_acc: 0.7867\n",
      "Epoch 4/10\n",
      "10540/10540 [==============================] - 115s 11ms/step - loss: 0.4178 - acc: 0.8340 - val_loss: 0.5453 - val_acc: 0.7875\n",
      "model#2 trained!\n"
     ]
    }
   ],
   "source": [
    "print('Training model#2')\n",
    "history2 = model2.fit(X_train, y_train, epochs=epochs, batch_size=batch_size, verbose = 1, validation_split=0.1, callbacks=[EarlyStopping(monitor='val_loss', patience=3, min_delta=0.0001)])\n",
    "model2.save('sentiment_model2.h5')\n",
    "print('model#2 trained!')"
   ]
  },
  {
   "cell_type": "code",
   "execution_count": 55,
   "metadata": {},
   "outputs": [
    {
     "name": "stdout",
     "output_type": "stream",
     "text": [
      "Training model#3\n",
      "Train on 10540 samples, validate on 1172 samples\n",
      "Epoch 1/10\n",
      "10540/10540 [==============================] - 132s 13ms/step - loss: 0.3758 - acc: 0.8527 - val_loss: 0.4852 - val_acc: 0.8166\n",
      "Epoch 2/10\n",
      "10540/10540 [==============================] - 125s 12ms/step - loss: 0.3456 - acc: 0.8657 - val_loss: 0.5592 - val_acc: 0.8114\n",
      "Epoch 3/10\n",
      "10540/10540 [==============================] - 129s 12ms/step - loss: 0.3275 - acc: 0.8717 - val_loss: 0.5243 - val_acc: 0.8080\n",
      "Epoch 4/10\n",
      "10540/10540 [==============================] - 121s 11ms/step - loss: 0.2921 - acc: 0.8894 - val_loss: 0.5546 - val_acc: 0.8166\n",
      "model#3 trained!\n"
     ]
    }
   ],
   "source": [
    "print('Training model#3')\n",
    "history3 =model3.fit(X_train, y_train, epochs=epochs, batch_size=batch_size, verbose = 1, validation_split=0.1, callbacks=[EarlyStopping(monitor='val_loss', patience=3, min_delta=0.0001)])\n",
    "model3.save('sentiment_model3.h5')\n",
    "print('model#3 trained!')"
   ]
  },
  {
   "cell_type": "code",
   "execution_count": 56,
   "metadata": {},
   "outputs": [
    {
     "name": "stdout",
     "output_type": "stream",
     "text": [
      "Training model#4\n",
      "Train on 10540 samples, validate on 1172 samples\n",
      "Epoch 1/10\n",
      "10540/10540 [==============================] - 215s 20ms/step - loss: 0.3799 - acc: 0.8493 - val_loss: 0.5375 - val_acc: 0.8038\n",
      "Epoch 2/10\n",
      "10540/10540 [==============================] - 216s 20ms/step - loss: 0.3556 - acc: 0.8605 - val_loss: 0.5213 - val_acc: 0.8089\n",
      "Epoch 3/10\n",
      "10540/10540 [==============================] - 208s 20ms/step - loss: 0.3328 - acc: 0.8663 - val_loss: 0.5355 - val_acc: 0.8029\n",
      "Epoch 4/10\n",
      "10540/10540 [==============================] - 188s 18ms/step - loss: 0.2905 - acc: 0.8856 - val_loss: 0.5988 - val_acc: 0.8080\n",
      "Epoch 5/10\n",
      "10540/10540 [==============================] - 189s 18ms/step - loss: 0.2720 - acc: 0.8897 - val_loss: 0.5773 - val_acc: 0.7935\n",
      "model#4 trained!\n"
     ]
    }
   ],
   "source": [
    "print('Training model#4')\n",
    "history4 = model4.fit(X_train, y_train, epochs=epochs, batch_size=batch_size, verbose = 1, validation_split=0.1, callbacks=[EarlyStopping(monitor='val_loss', patience=3, min_delta=0.0001)])\n",
    "model4.save('sentiment_model4.h5')\n",
    "print('model#4 trained!')"
   ]
  },
  {
   "cell_type": "code",
   "execution_count": 57,
   "metadata": {},
   "outputs": [
    {
     "name": "stdout",
     "output_type": "stream",
     "text": [
      "Training model#5\n",
      "Train on 10540 samples, validate on 1172 samples\n",
      "Epoch 1/10\n",
      "10540/10540 [==============================] - 155s 15ms/step - loss: 0.3909 - acc: 0.8470 - val_loss: 0.5314 - val_acc: 0.8097\n",
      "Epoch 2/10\n",
      "10540/10540 [==============================] - 149s 14ms/step - loss: 0.3735 - acc: 0.8545 - val_loss: 0.5726 - val_acc: 0.8063\n",
      "Epoch 3/10\n",
      "10540/10540 [==============================] - 149s 14ms/step - loss: 0.3480 - acc: 0.8689 - val_loss: 0.5199 - val_acc: 0.8097\n",
      "Epoch 4/10\n",
      "10540/10540 [==============================] - 149s 14ms/step - loss: 0.3236 - acc: 0.8754 - val_loss: 0.5998 - val_acc: 0.7961\n",
      "Epoch 5/10\n",
      "10540/10540 [==============================] - 149s 14ms/step - loss: 0.3001 - acc: 0.8844 - val_loss: 0.5706 - val_acc: 0.8080\n",
      "Epoch 6/10\n",
      "10540/10540 [==============================] - 149s 14ms/step - loss: 0.2882 - acc: 0.8926 - val_loss: 0.5773 - val_acc: 0.7995\n",
      "model#5 trained!\n"
     ]
    }
   ],
   "source": [
    "print('Training model#5')\n",
    "history5 =model5.fit(X_train, y_train, epochs=epochs, batch_size=batch_size, verbose = 1, validation_split=0.1, callbacks=[EarlyStopping(monitor='val_loss', patience=3, min_delta=0.0001)])\n",
    "model5.save('sentiment_model5.h5')\n",
    "print('model#5 trained!')"
   ]
  },
  {
   "cell_type": "code",
   "execution_count": 91,
   "metadata": {},
   "outputs": [
    {
     "name": "stdout",
     "output_type": "stream",
     "text": [
      "Training model#6\n",
      "Train on 10540 samples, validate on 1172 samples\n",
      "Epoch 1/20\n",
      "10540/10540 [==============================] - 123s 12ms/step - loss: 0.5741 - acc: 0.7721 - val_loss: 0.5594 - val_acc: 0.7773\n",
      "Epoch 2/20\n",
      "10540/10540 [==============================] - 123s 12ms/step - loss: 0.5704 - acc: 0.7733 - val_loss: 0.5421 - val_acc: 0.7824\n",
      "Epoch 3/20\n",
      "10540/10540 [==============================] - 125s 12ms/step - loss: 0.5608 - acc: 0.7801 - val_loss: 0.5326 - val_acc: 0.7935\n",
      "Epoch 4/20\n",
      "10540/10540 [==============================] - 118s 11ms/step - loss: 0.5505 - acc: 0.7808 - val_loss: 0.5286 - val_acc: 0.7918\n",
      "Epoch 5/20\n",
      "10540/10540 [==============================] - 115s 11ms/step - loss: 0.5512 - acc: 0.7765 - val_loss: 0.5313 - val_acc: 0.7884\n",
      "Epoch 6/20\n",
      "10540/10540 [==============================] - 116s 11ms/step - loss: 0.5539 - acc: 0.7768 - val_loss: 0.5290 - val_acc: 0.8020\n",
      "Epoch 7/20\n",
      "10540/10540 [==============================] - 113s 11ms/step - loss: 0.5501 - acc: 0.7805 - val_loss: 0.5164 - val_acc: 0.7986\n",
      "Epoch 8/20\n",
      "10540/10540 [==============================] - 112s 11ms/step - loss: 0.5405 - acc: 0.7834 - val_loss: 0.5150 - val_acc: 0.8020\n",
      "Epoch 9/20\n",
      "10540/10540 [==============================] - 113s 11ms/step - loss: 0.5334 - acc: 0.7870 - val_loss: 0.5217 - val_acc: 0.8055\n",
      "Epoch 10/20\n",
      "10540/10540 [==============================] - 117s 11ms/step - loss: 0.5364 - acc: 0.7838 - val_loss: 0.5093 - val_acc: 0.7978\n",
      "Epoch 11/20\n",
      "10540/10540 [==============================] - 118s 11ms/step - loss: 0.5289 - acc: 0.7922 - val_loss: 0.5383 - val_acc: 0.8072\n",
      "Epoch 12/20\n",
      "10540/10540 [==============================] - 117s 11ms/step - loss: 0.5280 - acc: 0.7852 - val_loss: 0.5251 - val_acc: 0.8046\n",
      "Epoch 13/20\n",
      "10540/10540 [==============================] - 116s 11ms/step - loss: 0.5241 - acc: 0.7943 - val_loss: 0.5112 - val_acc: 0.8012\n",
      "model#6 trained!\n"
     ]
    }
   ],
   "source": [
    "print('Training model#6')\n",
    "history6 =model6.fit(X_train, y_train, epochs=20, batch_size=batch_size, verbose = 1, validation_split=0.1, callbacks=[EarlyStopping(monitor='val_loss', patience=3, min_delta=0.0001)])\n",
    "model6.save('sentiment_model6.h5')\n",
    "print('model#6 trained!')"
   ]
  },
  {
   "cell_type": "code",
   "execution_count": 98,
   "metadata": {},
   "outputs": [
    {
     "name": "stdout",
     "output_type": "stream",
     "text": [
      "Training model#7\n",
      "Train on 10540 samples, validate on 1172 samples\n",
      "Epoch 1/20\n",
      "10540/10540 [==============================] - 213s 20ms/step - loss: 0.7540 - acc: 0.6910 - val_loss: 0.6682 - val_acc: 0.7176\n",
      "Epoch 2/20\n",
      "10540/10540 [==============================] - 186s 18ms/step - loss: 0.6725 - acc: 0.7242 - val_loss: 0.6163 - val_acc: 0.7457\n",
      "Epoch 3/20\n",
      "10540/10540 [==============================] - 185s 18ms/step - loss: 0.6470 - acc: 0.7380 - val_loss: 0.6195 - val_acc: 0.7619\n",
      "Epoch 4/20\n",
      "10540/10540 [==============================] - 187s 18ms/step - loss: 0.6230 - acc: 0.7492 - val_loss: 0.6034 - val_acc: 0.7543\n",
      "Epoch 5/20\n",
      "10540/10540 [==============================] - 186s 18ms/step - loss: 0.6120 - acc: 0.7492 - val_loss: 0.5846 - val_acc: 0.7619\n",
      "Epoch 6/20\n",
      "10540/10540 [==============================] - 186s 18ms/step - loss: 0.5903 - acc: 0.7617 - val_loss: 0.5510 - val_acc: 0.7807\n",
      "Epoch 7/20\n",
      "10540/10540 [==============================] - 186s 18ms/step - loss: 0.5788 - acc: 0.7659 - val_loss: 0.5481 - val_acc: 0.7807\n",
      "Epoch 8/20\n",
      "10540/10540 [==============================] - 186s 18ms/step - loss: 0.5721 - acc: 0.7705 - val_loss: 0.5566 - val_acc: 0.7790\n",
      "Epoch 9/20\n",
      "10540/10540 [==============================] - 186s 18ms/step - loss: 0.5631 - acc: 0.7717 - val_loss: 0.5374 - val_acc: 0.7807\n",
      "Epoch 10/20\n",
      "10540/10540 [==============================] - 186s 18ms/step - loss: 0.5598 - acc: 0.7711 - val_loss: 0.5281 - val_acc: 0.7910\n",
      "Epoch 11/20\n",
      "10540/10540 [==============================] - 186s 18ms/step - loss: 0.5514 - acc: 0.7769 - val_loss: 0.5411 - val_acc: 0.7935\n",
      "Epoch 12/20\n",
      "10540/10540 [==============================] - 186s 18ms/step - loss: 0.5480 - acc: 0.7791 - val_loss: 0.5249 - val_acc: 0.7918\n",
      "Epoch 13/20\n",
      "10540/10540 [==============================] - 186s 18ms/step - loss: 0.5411 - acc: 0.7847 - val_loss: 0.5180 - val_acc: 0.7944\n",
      "Epoch 14/20\n",
      "10540/10540 [==============================] - 186s 18ms/step - loss: 0.5300 - acc: 0.7912 - val_loss: 0.5398 - val_acc: 0.7918\n",
      "Epoch 15/20\n",
      "10540/10540 [==============================] - 189s 18ms/step - loss: 0.5233 - acc: 0.7935 - val_loss: 0.5306 - val_acc: 0.7961\n",
      "Epoch 16/20\n",
      "10540/10540 [==============================] - 221s 21ms/step - loss: 0.5208 - acc: 0.7914 - val_loss: 0.5148 - val_acc: 0.7961\n",
      "Epoch 17/20\n",
      "10540/10540 [==============================] - 289s 27ms/step - loss: 0.5211 - acc: 0.7909 - val_loss: 0.5080 - val_acc: 0.7935\n",
      "Epoch 18/20\n",
      "10540/10540 [==============================] - 360s 34ms/step - loss: 0.5199 - acc: 0.7905 - val_loss: 0.5144 - val_acc: 0.7978\n",
      "Epoch 19/20\n",
      "10540/10540 [==============================] - 16593s 2s/step - loss: 0.5115 - acc: 0.7979 - val_loss: 0.5166 - val_acc: 0.7986\n",
      "Epoch 20/20\n",
      "10540/10540 [==============================] - 185s 18ms/step - loss: 0.5126 - acc: 0.7936 - val_loss: 0.5166 - val_acc: 0.8012\n",
      "model#7 trained!\n"
     ]
    }
   ],
   "source": [
    "print('Training model#7')\n",
    "history7 =model7.fit(X_train, y_train, epochs=20, batch_size=batch_size, verbose = 1, validation_split=0.1, callbacks=[EarlyStopping(monitor='val_loss', patience=3, min_delta=0.0001)])\n",
    "model7.save('sentiment_model7.h5')\n",
    "print('model#7 trained!')"
   ]
  },
  {
   "cell_type": "markdown",
   "metadata": {},
   "source": [
    "## Evaluation of the Models "
   ]
  },
  {
   "cell_type": "code",
   "execution_count": 235,
   "metadata": {
    "collapsed": true
   },
   "outputs": [],
   "source": [
    "#model1 =load_model('sentiment_model1.h5')\n",
    "#model2 =load_model('sentiment_model2.h5')\n",
    "#model3 =load_model('sentiment_model3.h5')\n",
    "#model4 =load_model('sentiment_model4.h5')\n",
    "#model5 =load_model('sentiment_model5.h5')\n",
    "#model6 =load_model('sentiment_model6.h5')\n",
    "#model7 =load_model('sentiment_model7.h5')"
   ]
  },
  {
   "cell_type": "code",
   "execution_count": 58,
   "metadata": {
    "collapsed": true
   },
   "outputs": [],
   "source": [
    "from sklearn.metrics import roc_auc_score, confusion_matrix, classification_report\n",
    "import keras.backend as K"
   ]
  },
  {
   "cell_type": "code",
   "execution_count": 99,
   "metadata": {
    "collapsed": true
   },
   "outputs": [],
   "source": [
    "predict_class1 = model1.predict_classes(X_test)\n",
    "predict_class2 = model2.predict_classes(X_test)\n",
    "predict_class3 = model3.predict_classes(X_test)\n",
    "predict_class4 = model4.predict_classes(X_test)\n",
    "predict_class5 = model5.predict_classes(X_test)\n",
    "predict_class6 = model6.predict_classes(X_test)\n",
    "predict_class7 = model7.predict_classes(X_test)\n",
    "y_test_class = pd.DataFrame(y_test).idxmax(axis=1)"
   ]
  },
  {
   "cell_type": "code",
   "execution_count": 100,
   "metadata": {},
   "outputs": [
    {
     "name": "stdout",
     "output_type": "stream",
     "text": [
      "--------------- Model#1 CLASSIFICATION REPORT ---------------\n",
      "             precision    recall  f1-score   support\n",
      "\n",
      "          0       0.85      0.88      0.87      1820\n",
      "          1       0.58      0.62      0.60       599\n",
      "          2       0.78      0.64      0.70       509\n",
      "\n",
      "avg / total       0.79      0.78      0.78      2928\n",
      "\n",
      "--------------- Model#2 CLASSIFICATION REPORT ---------------\n",
      "             precision    recall  f1-score   support\n",
      "\n",
      "          0       0.84      0.91      0.87      1820\n",
      "          1       0.65      0.61      0.63       599\n",
      "          2       0.79      0.62      0.69       509\n",
      "\n",
      "avg / total       0.79      0.80      0.79      2928\n",
      "\n",
      "--------------- Model#3 CLASSIFICATION REPORT ---------------\n",
      "             precision    recall  f1-score   support\n",
      "\n",
      "          0       0.85      0.93      0.89      1820\n",
      "          1       0.68      0.59      0.63       599\n",
      "          2       0.79      0.67      0.72       509\n",
      "\n",
      "avg / total       0.81      0.81      0.81      2928\n",
      "\n",
      "--------------- Model#4 CLASSIFICATION REPORT ---------------\n",
      "             precision    recall  f1-score   support\n",
      "\n",
      "          0       0.86      0.90      0.88      1820\n",
      "          1       0.61      0.65      0.63       599\n",
      "          2       0.79      0.62      0.70       509\n",
      "\n",
      "avg / total       0.80      0.80      0.80      2928\n",
      "\n",
      "--------------- Model#5 CLASSIFICATION REPORT ---------------\n",
      "             precision    recall  f1-score   support\n",
      "\n",
      "          0       0.86      0.92      0.89      1820\n",
      "          1       0.67      0.61      0.64       599\n",
      "          2       0.78      0.66      0.72       509\n",
      "\n",
      "avg / total       0.80      0.81      0.81      2928\n",
      "\n",
      "--------------- Model#6 CLASSIFICATION REPORT ---------------\n",
      "             precision    recall  f1-score   support\n",
      "\n",
      "          0       0.84      0.93      0.88      1820\n",
      "          1       0.70      0.48      0.57       599\n",
      "          2       0.73      0.73      0.73       509\n",
      "\n",
      "avg / total       0.79      0.80      0.79      2928\n",
      "\n",
      "--------------- Model#7 CLASSIFICATION REPORT ---------------\n",
      "             precision    recall  f1-score   support\n",
      "\n",
      "          0       0.85      0.92      0.88      1820\n",
      "          1       0.66      0.55      0.60       599\n",
      "          2       0.77      0.69      0.73       509\n",
      "\n",
      "avg / total       0.80      0.80      0.80      2928\n",
      "\n"
     ]
    }
   ],
   "source": [
    "for n in range(1,8):\n",
    "    print(\"-\"*15,\"Model#%s CLASSIFICATION REPORT\" %(n),\"-\"*15)\n",
    "    print(classification_report(pd.DataFrame(y_test_class), pd.DataFrame(globals()['predict_class%s' % n])))\n",
    "    "
   ]
  },
  {
   "cell_type": "code",
   "execution_count": 236,
   "metadata": {},
   "outputs": [
    {
     "data": {
      "image/png": "[encoded data removed]",
      "text/plain": [
       "<Figure size 720x1080 with 14 Axes>"
      ]
     },
     "metadata": {},
     "output_type": "display_data"
    }
   ],
   "source": [
    "m = 1\n",
    "plt.figure(figsize=(10,15))\n",
    "plt.subplots_adjust(hspace=0.8)\n",
    "for n in range(1,8):\n",
    "    history = globals()['history%s' % n]\n",
    "    plt.subplot(7, 2, m)\n",
    "    plt.title('Model no.%s: Loss' %(n))\n",
    "    plt.plot(history.history['loss'], label='train', color='c')\n",
    "    plt.plot(history.history['val_loss'], label='validation',color='m')\n",
    "    plt.legend()\n",
    "    \n",
    "    plt.subplot(7, 2, m+1)\n",
    "    plt.title('Model no.%s: Accuracy' %(n))\n",
    "    plt.plot(history.history['acc'], label='train', color='c')\n",
    "    plt.plot(history.history['val_acc'], label='validation',color='m')\n",
    "    plt.legend()\n",
    "    m += 2\n"
   ]
  },
  {
   "cell_type": "markdown",
   "metadata": {},
   "source": [
    "## Testing of the Model"
   ]
  },
  {
   "cell_type": "markdown",
   "metadata": {},
   "source": [
    "Here, I will test all the models with an unseen input sentence.  "
   ]
  },
  {
   "cell_type": "code",
   "execution_count": 232,
   "metadata": {
    "collapsed": true
   },
   "outputs": [],
   "source": [
    "testing = 'The staff was very condescending and rude'"
   ]
  },
  {
   "cell_type": "code",
   "execution_count": 233,
   "metadata": {
    "collapsed": true
   },
   "outputs": [],
   "source": [
    "def data_processing(text):\n",
    "    text = text.lower()\n",
    "    text = re.sub('[^a-zA-Z0-9\\s]',\"\",text)\n",
    "    X_text = tokenizer.texts_to_sequences([text])\n",
    "    X_text = pad_sequences(X_text, maxlen=MAX_SEQUENCE_LENGTH)\n",
    "    return(X_text)"
   ]
  },
  {
   "cell_type": "code",
   "execution_count": 234,
   "metadata": {},
   "outputs": [
    {
     "name": "stdout",
     "output_type": "stream",
     "text": [
      "According to Model no.1...\n",
      "This review has a 11.6% probability of being negative and a 53.4% probability of being positive.\n",
      "Model no.1 classified it as a positive review.\n",
      "\n",
      "\n",
      "According to Model no.2...\n",
      "This review has a 19.5% probability of being negative and a 60.6% probability of being positive.\n",
      "Model no.2 classified it as a positive review.\n",
      "\n",
      "\n",
      "According to Model no.3...\n",
      "This review has a 99.5% probability of being negative and a 0.4% probability of being positive.\n",
      "Model no.3 classified it as a negative review.\n",
      "\n",
      "\n",
      "According to Model no.4...\n",
      "This review has a 69.3% probability of being negative and a 8.0% probability of being positive.\n",
      "Model no.4 classified it as a negative review.\n",
      "\n",
      "\n",
      "According to Model no.5...\n",
      "This review has a 97.9% probability of being negative and a 1.9% probability of being positive.\n",
      "Model no.5 classified it as a negative review.\n",
      "\n",
      "\n",
      "According to Model no.6...\n",
      "This review has a 87.1% probability of being negative and a 11.1% probability of being positive.\n",
      "Model no.6 classified it as a negative review.\n",
      "\n",
      "\n",
      "According to Model no.7...\n",
      "This review has a 98.1% probability of being negative and a 1.3% probability of being positive.\n",
      "Model no.7 classified it as a negative review.\n",
      "\n",
      "\n"
     ]
    }
   ],
   "source": [
    "testing = data_processing(testing)\n",
    "for n in range(1,8):\n",
    "    model = globals()['model%s' % n]\n",
    "    print('According to Model no.%s...' %(n))\n",
    "    print('This review has a %.1f%% probability of being negative and a %.1f%% probability of being positive.' \n",
    "          %(model.predict(testing)[0][0]*100, model.predict(testing)[0][2]*100))\n",
    "    if model.predict_classes(testing)[0] == 0:\n",
    "        print('Model no.%s classified it as a negative review.' %(n))\n",
    "    elif model.predict_classes(testing)[0] == 1:\n",
    "        print('Model no.%s classified it as a neutral review.' %(n))\n",
    "    else:\n",
    "        print('Model no.%s classified it as a positive review.' %(n))\n",
    "    print('\\n')"
   ]
  },
  {
   "cell_type": "markdown",
   "metadata": {},
   "source": [
    "## Conclusion"
   ]
  },
  {
   "cell_type": "markdown",
   "metadata": {},
   "source": [
    "- **Model no.1** is the only model that did not use a pre-trained word embedding and its performance was by far the worst; this proves once again how beneficial it is to initialize the weights with a pre-trained word embedding.\n",
    "- The steady increase of validation loss observed in **Model no.1 to no.5** is a clear indication of overfitting. Increasing the number of hidden units and/or layers may lead to overfitting because it will make it easier for the neural network to memorize the training set, that is to learn a function that perfectly separates the training set but that does not generalize to unseen data.\n",
    "- Having noticed the overfitting issue in Model no1 to no.5, I increased the dropout rate in each layer for **Model no.6 and Model no.7**. As you can see from the validation losses, increasing dropout rate is a clear improvement over the previous models. \n",
    "- **Model no.7 is the clear winner** here because the plot of its validation loss decreases to a point of stability and has a small gap with the training loss.\n",
    "- Increasing the dataset will likely improve the results as we were dealing with a relatively small sample of 14640 tweets. \n",
    "- One can also consider using weight regularization as an alternative approach to reduce the overfitting of the model on the training data. "
   ]
  }
 ],
 "metadata": {
  "kernelspec": {
   "display_name": "Python 3",
   "language": "python",
   "name": "python3"
  },
  "language_info": {
   "codemirror_mode": {
    "name": "ipython",
    "version": 3
   },
   "file_extension": ".py",
   "mimetype": "text/x-python",
   "name": "python",
   "nbconvert_exporter": "python",
   "pygments_lexer": "ipython3",
   "version": "3.6.7"
  }
 },
 "nbformat": 4,
 "nbformat_minor": 2
}
